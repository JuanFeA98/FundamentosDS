{
 "cells": [
  {
   "cell_type": "markdown",
   "id": "94f5eb48-8f06-4ab8-ad53-ce288610b5e8",
   "metadata": {},
   "source": [
    "# Pandas Stying"
   ]
  },
  {
   "cell_type": "markdown",
   "id": "c22a939e-f728-497c-984c-76f050888985",
   "metadata": {},
   "source": [
    "## Librerias"
   ]
  },
  {
   "cell_type": "code",
   "execution_count": 1,
   "id": "08600b3e-ab6c-48af-ac06-ede58c79dc1c",
   "metadata": {},
   "outputs": [],
   "source": [
    "import pandas as pd\n",
    "import numpy as np"
   ]
  },
  {
   "cell_type": "code",
   "execution_count": 3,
   "id": "a2d74b8d-fdd0-4d08-82b4-106814df7df1",
   "metadata": {},
   "outputs": [],
   "source": [
    "pd.options.display.max_columns = False"
   ]
  },
  {
   "cell_type": "markdown",
   "id": "b12a1775-ea80-4b06-aad3-56bd12a5e527",
   "metadata": {},
   "source": [
    "## Dataset"
   ]
  },
  {
   "cell_type": "code",
   "execution_count": 19,
   "id": "87c2ab05-ccbb-4eb5-b4ed-22a7b361a0ec",
   "metadata": {},
   "outputs": [
    {
     "data": {
      "text/html": [
       "<div>\n",
       "<style scoped>\n",
       "    .dataframe tbody tr th:only-of-type {\n",
       "        vertical-align: middle;\n",
       "    }\n",
       "\n",
       "    .dataframe tbody tr th {\n",
       "        vertical-align: top;\n",
       "    }\n",
       "\n",
       "    .dataframe thead tr th {\n",
       "        text-align: left;\n",
       "    }\n",
       "\n",
       "    .dataframe thead tr:last-of-type th {\n",
       "        text-align: right;\n",
       "    }\n",
       "</style>\n",
       "<table border=\"1\" class=\"dataframe\">\n",
       "  <thead>\n",
       "    <tr>\n",
       "      <th>Model:</th>\n",
       "      <th colspan=\"2\" halign=\"left\">Decision Tree</th>\n",
       "      <th colspan=\"2\" halign=\"left\">Regression</th>\n",
       "      <th colspan=\"2\" halign=\"left\">Random</th>\n",
       "    </tr>\n",
       "    <tr>\n",
       "      <th>Predicted:</th>\n",
       "      <th>Tumor</th>\n",
       "      <th>Non-Tumor</th>\n",
       "      <th>Tumor</th>\n",
       "      <th>Non-Tumor</th>\n",
       "      <th>Tumor</th>\n",
       "      <th>Non-Tumor</th>\n",
       "    </tr>\n",
       "    <tr>\n",
       "      <th>Actual Label:</th>\n",
       "      <th></th>\n",
       "      <th></th>\n",
       "      <th></th>\n",
       "      <th></th>\n",
       "      <th></th>\n",
       "      <th></th>\n",
       "    </tr>\n",
       "  </thead>\n",
       "  <tbody>\n",
       "    <tr>\n",
       "      <th>Tumor (Positive)</th>\n",
       "      <td>38.0</td>\n",
       "      <td>2.0</td>\n",
       "      <td>18.0</td>\n",
       "      <td>22.0</td>\n",
       "      <td>21</td>\n",
       "      <td>NaN</td>\n",
       "    </tr>\n",
       "    <tr>\n",
       "      <th>Non-Tumor (Negative)</th>\n",
       "      <td>19.0</td>\n",
       "      <td>439.0</td>\n",
       "      <td>6.0</td>\n",
       "      <td>452.0</td>\n",
       "      <td>226</td>\n",
       "      <td>232.0</td>\n",
       "    </tr>\n",
       "  </tbody>\n",
       "</table>\n",
       "</div>"
      ],
      "text/plain": [
       "Model:               Decision Tree            ... Random          \n",
       "Predicted:                   Tumor Non-Tumor  ...  Tumor Non-Tumor\n",
       "Actual Label:                                 ...                 \n",
       "Tumor (Positive)              38.0       2.0  ...     21       NaN\n",
       "Non-Tumor (Negative)          19.0     439.0  ...    226     232.0\n",
       "\n",
       "[2 rows x 6 columns]"
      ]
     },
     "execution_count": 19,
     "metadata": {},
     "output_type": "execute_result"
    }
   ],
   "source": [
    "df = pd.DataFrame([\n",
    "    [38.0, 2.0, 18.0, 22.0, 21, np.nan],\n",
    "    [19, 439, 6, 452, 226, 232]],\n",
    "    index=pd.Index(['Tumor (Positive)', 'Non-Tumor (Negative)'], name='Actual Label:'),\n",
    "    columns=pd.MultiIndex.from_product([\n",
    "        ['Decision Tree', 'Regression', 'Random'],\n",
    "        ['Tumor', 'Non-Tumor']\n",
    "    ], names=['Model:', 'Predicted:'])\n",
    ")\n",
    "df"
   ]
  },
  {
   "cell_type": "code",
   "execution_count": 21,
   "id": "76a2ab88-a277-4a4e-9389-fd1937a521f7",
   "metadata": {},
   "outputs": [
    {
     "data": {
      "text/html": [
       "<style type=\"text/css\">\n",
       "</style>\n",
       "<table id=\"T_8ed86_\">\n",
       "  <thead>\n",
       "    <tr>\n",
       "      <th class=\"index_name level0\" >Model:</th>\n",
       "      <th class=\"col_heading level0 col0\" colspan=\"2\">Decision Tree</th>\n",
       "      <th class=\"col_heading level0 col2\" colspan=\"2\">Regression</th>\n",
       "      <th class=\"col_heading level0 col4\" colspan=\"2\">Random</th>\n",
       "    </tr>\n",
       "    <tr>\n",
       "      <th class=\"index_name level1\" >Predicted:</th>\n",
       "      <th class=\"col_heading level1 col0\" >Tumor</th>\n",
       "      <th class=\"col_heading level1 col1\" >Non-Tumor</th>\n",
       "      <th class=\"col_heading level1 col2\" >Tumor</th>\n",
       "      <th class=\"col_heading level1 col3\" >Non-Tumor</th>\n",
       "      <th class=\"col_heading level1 col4\" >Tumor</th>\n",
       "      <th class=\"col_heading level1 col5\" >Non-Tumor</th>\n",
       "    </tr>\n",
       "    <tr>\n",
       "      <th class=\"index_name level0\" >Actual Label:</th>\n",
       "      <th class=\"blank col0\" >&nbsp;</th>\n",
       "      <th class=\"blank col1\" >&nbsp;</th>\n",
       "      <th class=\"blank col2\" >&nbsp;</th>\n",
       "      <th class=\"blank col3\" >&nbsp;</th>\n",
       "      <th class=\"blank col4\" >&nbsp;</th>\n",
       "      <th class=\"blank col5\" >&nbsp;</th>\n",
       "    </tr>\n",
       "  </thead>\n",
       "  <tbody>\n",
       "    <tr>\n",
       "      <th id=\"T_8ed86_level0_row0\" class=\"row_heading level0 row0\" >Tumor (Positive)</th>\n",
       "      <td id=\"T_8ed86_row0_col0\" class=\"data row0 col0\" >38.000000</td>\n",
       "      <td id=\"T_8ed86_row0_col1\" class=\"data row0 col1\" >2.000000</td>\n",
       "      <td id=\"T_8ed86_row0_col2\" class=\"data row0 col2\" >18.000000</td>\n",
       "      <td id=\"T_8ed86_row0_col3\" class=\"data row0 col3\" >22.000000</td>\n",
       "      <td id=\"T_8ed86_row0_col4\" class=\"data row0 col4\" >21</td>\n",
       "      <td id=\"T_8ed86_row0_col5\" class=\"data row0 col5\" >nan</td>\n",
       "    </tr>\n",
       "    <tr>\n",
       "      <th id=\"T_8ed86_level0_row1\" class=\"row_heading level0 row1\" >Non-Tumor (Negative)</th>\n",
       "      <td id=\"T_8ed86_row1_col0\" class=\"data row1 col0\" >19.000000</td>\n",
       "      <td id=\"T_8ed86_row1_col1\" class=\"data row1 col1\" >439.000000</td>\n",
       "      <td id=\"T_8ed86_row1_col2\" class=\"data row1 col2\" >6.000000</td>\n",
       "      <td id=\"T_8ed86_row1_col3\" class=\"data row1 col3\" >452.000000</td>\n",
       "      <td id=\"T_8ed86_row1_col4\" class=\"data row1 col4\" >226</td>\n",
       "      <td id=\"T_8ed86_row1_col5\" class=\"data row1 col5\" >232.000000</td>\n",
       "    </tr>\n",
       "  </tbody>\n",
       "</table>\n"
      ],
      "text/plain": [
       "<pandas.io.formats.style.Styler at 0x1e314b182b0>"
      ]
     },
     "execution_count": 21,
     "metadata": {},
     "output_type": "execute_result"
    }
   ],
   "source": [
    "df.style"
   ]
  },
  {
   "cell_type": "markdown",
   "id": "a98cd7b4-8397-4933-815e-136073ad7fbb",
   "metadata": {},
   "source": [
    "## Agregando estilos al dataframe"
   ]
  },
  {
   "cell_type": "markdown",
   "id": "cfedcc4a-3ee3-4c80-8a08-db9f97109b09",
   "metadata": {},
   "source": [
    "**Ajustar el formato de los números**"
   ]
  },
  {
   "cell_type": "code",
   "execution_count": 46,
   "id": "d05de4d8-8040-4fe7-bb4a-a8df368768e7",
   "metadata": {},
   "outputs": [
    {
     "data": {
      "text/html": [
       "<style type=\"text/css\">\n",
       "</style>\n",
       "<table id=\"T_2ba0b_\">\n",
       "  <thead>\n",
       "    <tr>\n",
       "      <th class=\"index_name level0\" >Model:</th>\n",
       "      <th class=\"col_heading level0 col0\" colspan=\"2\">Decision Tree</th>\n",
       "      <th class=\"col_heading level0 col2\" colspan=\"2\">Regression</th>\n",
       "      <th class=\"col_heading level0 col4\" colspan=\"2\">Random</th>\n",
       "    </tr>\n",
       "    <tr>\n",
       "      <th class=\"index_name level1\" >Predicted:</th>\n",
       "      <th class=\"col_heading level1 col0\" >Tumor</th>\n",
       "      <th class=\"col_heading level1 col1\" >Non-Tumor</th>\n",
       "      <th class=\"col_heading level1 col2\" >Tumor</th>\n",
       "      <th class=\"col_heading level1 col3\" >Non-Tumor</th>\n",
       "      <th class=\"col_heading level1 col4\" >Tumor</th>\n",
       "      <th class=\"col_heading level1 col5\" >Non-Tumor</th>\n",
       "    </tr>\n",
       "    <tr>\n",
       "      <th class=\"index_name level0\" >Actual Label:</th>\n",
       "      <th class=\"blank col0\" >&nbsp;</th>\n",
       "      <th class=\"blank col1\" >&nbsp;</th>\n",
       "      <th class=\"blank col2\" >&nbsp;</th>\n",
       "      <th class=\"blank col3\" >&nbsp;</th>\n",
       "      <th class=\"blank col4\" >&nbsp;</th>\n",
       "      <th class=\"blank col5\" >&nbsp;</th>\n",
       "    </tr>\n",
       "  </thead>\n",
       "  <tbody>\n",
       "    <tr>\n",
       "      <th id=\"T_2ba0b_level0_row0\" class=\"row_heading level0 row0\" >Tumor (Positive)</th>\n",
       "      <td id=\"T_2ba0b_row0_col0\" class=\"data row0 col0\" >38.00</td>\n",
       "      <td id=\"T_2ba0b_row0_col1\" class=\"data row0 col1\" >2</td>\n",
       "      <td id=\"T_2ba0b_row0_col2\" class=\"data row0 col2\" >18</td>\n",
       "      <td id=\"T_2ba0b_row0_col3\" class=\"data row0 col3\" >$22.00</td>\n",
       "      <td id=\"T_2ba0b_row0_col4\" class=\"data row0 col4\" >21</td>\n",
       "      <td id=\"T_2ba0b_row0_col5\" class=\"data row0 col5\" >Missing</td>\n",
       "    </tr>\n",
       "    <tr>\n",
       "      <th id=\"T_2ba0b_level0_row1\" class=\"row_heading level0 row1\" >Non-Tumor (Negative)</th>\n",
       "      <td id=\"T_2ba0b_row1_col0\" class=\"data row1 col0\" >19.00</td>\n",
       "      <td id=\"T_2ba0b_row1_col1\" class=\"data row1 col1\" >439</td>\n",
       "      <td id=\"T_2ba0b_row1_col2\" class=\"data row1 col2\" >6</td>\n",
       "      <td id=\"T_2ba0b_row1_col3\" class=\"data row1 col3\" >$452.00</td>\n",
       "      <td id=\"T_2ba0b_row1_col4\" class=\"data row1 col4\" >226</td>\n",
       "      <td id=\"T_2ba0b_row1_col5\" class=\"data row1 col5\" >232</td>\n",
       "    </tr>\n",
       "  </tbody>\n",
       "</table>\n"
      ],
      "text/plain": [
       "<pandas.io.formats.style.Styler at 0x1e31665d790>"
      ]
     },
     "execution_count": 46,
     "metadata": {},
     "output_type": "execute_result"
    }
   ],
   "source": [
    "df.style.format(\n",
    "    precision=0, \n",
    "    na_rep='Missing',\n",
    "    thousands=\" \",\n",
    "    formatter={\n",
    "        ('Decision Tree', 'Tumor'):'{:.2f}',\n",
    "        ('Regression', 'Non-Tumor'): lambda x: '${:.2f}'.format(x)\n",
    "    }\n",
    ")"
   ]
  },
  {
   "cell_type": "markdown",
   "id": "281fb950-f500-42f2-8809-7161e94163d1",
   "metadata": {},
   "source": [
    "**Ocultando datos**"
   ]
  },
  {
   "cell_type": "code",
   "execution_count": 58,
   "id": "1caa2916-07c0-4201-a000-eaf30ee0f7de",
   "metadata": {},
   "outputs": [
    {
     "data": {
      "text/html": [
       "<style type=\"text/css\">\n",
       "</style>\n",
       "<table id=\"T_b008f_\">\n",
       "  <thead>\n",
       "    <tr>\n",
       "      <th class=\"index_name level0\" >Model:</th>\n",
       "      <th class=\"col_heading level0 col0\" colspan=\"2\">Decision Tree</th>\n",
       "      <th class=\"col_heading level0 col2\" colspan=\"2\">Regression</th>\n",
       "    </tr>\n",
       "    <tr>\n",
       "      <th class=\"index_name level1\" >Predicted:</th>\n",
       "      <th class=\"col_heading level1 col0\" >Tumor</th>\n",
       "      <th class=\"col_heading level1 col1\" >Non-Tumor</th>\n",
       "      <th class=\"col_heading level1 col2\" >Tumor</th>\n",
       "      <th class=\"col_heading level1 col3\" >Non-Tumor</th>\n",
       "    </tr>\n",
       "    <tr>\n",
       "      <th class=\"index_name level0\" >Actual Label:</th>\n",
       "      <th class=\"blank col0\" >&nbsp;</th>\n",
       "      <th class=\"blank col1\" >&nbsp;</th>\n",
       "      <th class=\"blank col2\" >&nbsp;</th>\n",
       "      <th class=\"blank col3\" >&nbsp;</th>\n",
       "    </tr>\n",
       "  </thead>\n",
       "  <tbody>\n",
       "    <tr>\n",
       "      <th id=\"T_b008f_level0_row0\" class=\"row_heading level0 row0\" >Tumor (Positive)</th>\n",
       "      <td id=\"T_b008f_row0_col0\" class=\"data row0 col0\" >38</td>\n",
       "      <td id=\"T_b008f_row0_col1\" class=\"data row0 col1\" >2</td>\n",
       "      <td id=\"T_b008f_row0_col2\" class=\"data row0 col2\" >18</td>\n",
       "      <td id=\"T_b008f_row0_col3\" class=\"data row0 col3\" >22</td>\n",
       "    </tr>\n",
       "    <tr>\n",
       "      <th id=\"T_b008f_level0_row1\" class=\"row_heading level0 row1\" >Non-Tumor (Negative)</th>\n",
       "      <td id=\"T_b008f_row1_col0\" class=\"data row1 col0\" >19</td>\n",
       "      <td id=\"T_b008f_row1_col1\" class=\"data row1 col1\" >439</td>\n",
       "      <td id=\"T_b008f_row1_col2\" class=\"data row1 col2\" >6</td>\n",
       "      <td id=\"T_b008f_row1_col3\" class=\"data row1 col3\" >452</td>\n",
       "    </tr>\n",
       "  </tbody>\n",
       "</table>\n"
      ],
      "text/plain": [
       "<pandas.io.formats.style.Styler at 0x1e3153f69d0>"
      ]
     },
     "execution_count": 58,
     "metadata": {},
     "output_type": "execute_result"
    }
   ],
   "source": [
    "s = df.style.format('{:.0f}').hide_columns([('Random', 'Tumor'), ('Random', 'Non-Tumor')])\n",
    "s"
   ]
  },
  {
   "cell_type": "markdown",
   "id": "d1b1839a-fc7a-41b5-a5ed-62bb5178ef1e",
   "metadata": {},
   "source": [
    "**Agregando estilos**"
   ]
  },
  {
   "cell_type": "code",
   "execution_count": 99,
   "id": "713f51d6-1ed7-45d8-a80d-1b57b88dd420",
   "metadata": {},
   "outputs": [
    {
     "data": {
      "text/html": [
       "<style type=\"text/css\">\n",
       "#T_b008f_ td:hover {\n",
       "  background-color: white;\n",
       "  color: black;\n",
       "}\n",
       "#T_b008f_ .index_name {\n",
       "  font-style: italic;\n",
       "  color: white;\n",
       "  background: #000000;\n",
       "}\n",
       "#T_b008f_ th:not(.index_name) {\n",
       "  background: black;\n",
       "}\n",
       "</style>\n",
       "<table id=\"T_b008f_\">\n",
       "  <thead>\n",
       "    <tr>\n",
       "      <th class=\"index_name level0\" >Model:</th>\n",
       "      <th class=\"col_heading level0 col0\" colspan=\"2\">Decision Tree</th>\n",
       "      <th class=\"col_heading level0 col2\" colspan=\"2\">Regression</th>\n",
       "    </tr>\n",
       "    <tr>\n",
       "      <th class=\"index_name level1\" >Predicted:</th>\n",
       "      <th class=\"col_heading level1 col0\" >Tumor</th>\n",
       "      <th class=\"col_heading level1 col1\" >Non-Tumor</th>\n",
       "      <th class=\"col_heading level1 col2\" >Tumor</th>\n",
       "      <th class=\"col_heading level1 col3\" >Non-Tumor</th>\n",
       "    </tr>\n",
       "    <tr>\n",
       "      <th class=\"index_name level0\" >Actual Label:</th>\n",
       "      <th class=\"blank col0\" >&nbsp;</th>\n",
       "      <th class=\"blank col1\" >&nbsp;</th>\n",
       "      <th class=\"blank col2\" >&nbsp;</th>\n",
       "      <th class=\"blank col3\" >&nbsp;</th>\n",
       "    </tr>\n",
       "  </thead>\n",
       "  <tbody>\n",
       "    <tr>\n",
       "      <th id=\"T_b008f_level0_row0\" class=\"row_heading level0 row0\" >Tumor (Positive)</th>\n",
       "      <td id=\"T_b008f_row0_col0\" class=\"data row0 col0\" >38</td>\n",
       "      <td id=\"T_b008f_row0_col1\" class=\"data row0 col1\" >2</td>\n",
       "      <td id=\"T_b008f_row0_col2\" class=\"data row0 col2\" >18</td>\n",
       "      <td id=\"T_b008f_row0_col3\" class=\"data row0 col3\" >22</td>\n",
       "    </tr>\n",
       "    <tr>\n",
       "      <th id=\"T_b008f_level0_row1\" class=\"row_heading level0 row1\" >Non-Tumor (Negative)</th>\n",
       "      <td id=\"T_b008f_row1_col0\" class=\"data row1 col0\" >19</td>\n",
       "      <td id=\"T_b008f_row1_col1\" class=\"data row1 col1\" >439</td>\n",
       "      <td id=\"T_b008f_row1_col2\" class=\"data row1 col2\" >6</td>\n",
       "      <td id=\"T_b008f_row1_col3\" class=\"data row1 col3\" >452</td>\n",
       "    </tr>\n",
       "  </tbody>\n",
       "</table>\n"
      ],
      "text/plain": [
       "<pandas.io.formats.style.Styler at 0x1e3153f69d0>"
      ]
     },
     "execution_count": 99,
     "metadata": {},
     "output_type": "execute_result"
    }
   ],
   "source": [
    "cell_hover = {\n",
    "    'selector': 'td:hover',\n",
    "    'props': '''\n",
    "        background-color: white;\n",
    "        color: black\n",
    "    '''\n",
    "}\n",
    "\n",
    "index_names = {\n",
    "    'selector': '.index_name',\n",
    "    'props': '''\n",
    "        font-style: italic; \n",
    "        color: white;\n",
    "        background: #000000\n",
    "    '''\n",
    "}\n",
    "\n",
    "headers = {\n",
    "    'selector': 'th:not(.index_name)',\n",
    "    'props': '''\n",
    "        background: black;\n",
    "    '''\n",
    "}\n",
    "\n",
    "s.set_table_styles([cell_hover, index_names, headers])"
   ]
  },
  {
   "cell_type": "code",
   "execution_count": null,
   "id": "e0556073-81b7-4812-8fa0-c39dabccad96",
   "metadata": {},
   "outputs": [],
   "source": []
  },
  {
   "cell_type": "code",
   "execution_count": null,
   "id": "5f2b71b1-8cdd-499b-b766-f373759dd17c",
   "metadata": {},
   "outputs": [],
   "source": []
  },
  {
   "cell_type": "code",
   "execution_count": null,
   "id": "14496e5c-611e-4290-abe2-fa14f0056387",
   "metadata": {},
   "outputs": [],
   "source": []
  },
  {
   "cell_type": "code",
   "execution_count": null,
   "id": "0f22c3a9-cf01-4315-9d58-0368bfb6ff1e",
   "metadata": {},
   "outputs": [],
   "source": []
  },
  {
   "cell_type": "code",
   "execution_count": null,
   "id": "191c9767-9cce-4054-a178-5d93cdb8cb0e",
   "metadata": {},
   "outputs": [],
   "source": []
  }
 ],
 "metadata": {
  "kernelspec": {
   "display_name": "Python 3 (ipykernel)",
   "language": "python",
   "name": "python3"
  },
  "language_info": {
   "codemirror_mode": {
    "name": "ipython",
    "version": 3
   },
   "file_extension": ".py",
   "mimetype": "text/x-python",
   "name": "python",
   "nbconvert_exporter": "python",
   "pygments_lexer": "ipython3",
   "version": "3.8.12"
  }
 },
 "nbformat": 4,
 "nbformat_minor": 5
}
