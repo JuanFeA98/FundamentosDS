{
 "cells": [
  {
   "cell_type": "markdown",
   "id": "94f5eb48-8f06-4ab8-ad53-ce288610b5e8",
   "metadata": {},
   "source": [
    "# Pandas Stying"
   ]
  },
  {
   "cell_type": "markdown",
   "id": "c22a939e-f728-497c-984c-76f050888985",
   "metadata": {},
   "source": [
    "## Librerias"
   ]
  },
  {
   "cell_type": "code",
   "execution_count": 1,
   "id": "08600b3e-ab6c-48af-ac06-ede58c79dc1c",
   "metadata": {},
   "outputs": [],
   "source": [
    "import pandas as pd\n",
    "import numpy as np"
   ]
  },
  {
   "cell_type": "code",
   "execution_count": 3,
   "id": "a2d74b8d-fdd0-4d08-82b4-106814df7df1",
   "metadata": {},
   "outputs": [],
   "source": [
    "pd.options.display.max_columns = False"
   ]
  },
  {
   "cell_type": "markdown",
   "id": "b12a1775-ea80-4b06-aad3-56bd12a5e527",
   "metadata": {},
   "source": [
    "## Dataset"
   ]
  },
  {
   "cell_type": "code",
   "execution_count": 19,
   "id": "87c2ab05-ccbb-4eb5-b4ed-22a7b361a0ec",
   "metadata": {},
   "outputs": [
    {
     "data": {
      "text/html": [
       "<div>\n",
       "<style scoped>\n",
       "    .dataframe tbody tr th:only-of-type {\n",
       "        vertical-align: middle;\n",
       "    }\n",
       "\n",
       "    .dataframe tbody tr th {\n",
       "        vertical-align: top;\n",
       "    }\n",
       "\n",
       "    .dataframe thead tr th {\n",
       "        text-align: left;\n",
       "    }\n",
       "\n",
       "    .dataframe thead tr:last-of-type th {\n",
       "        text-align: right;\n",
       "    }\n",
       "</style>\n",
       "<table border=\"1\" class=\"dataframe\">\n",
       "  <thead>\n",
       "    <tr>\n",
       "      <th>Model:</th>\n",
       "      <th colspan=\"2\" halign=\"left\">Decision Tree</th>\n",
       "      <th colspan=\"2\" halign=\"left\">Regression</th>\n",
       "      <th colspan=\"2\" halign=\"left\">Random</th>\n",
       "    </tr>\n",
       "    <tr>\n",
       "      <th>Predicted:</th>\n",
       "      <th>Tumor</th>\n",
       "      <th>Non-Tumor</th>\n",
       "      <th>Tumor</th>\n",
       "      <th>Non-Tumor</th>\n",
       "      <th>Tumor</th>\n",
       "      <th>Non-Tumor</th>\n",
       "    </tr>\n",
       "    <tr>\n",
       "      <th>Actual Label:</th>\n",
       "      <th></th>\n",
       "      <th></th>\n",
       "      <th></th>\n",
       "      <th></th>\n",
       "      <th></th>\n",
       "      <th></th>\n",
       "    </tr>\n",
       "  </thead>\n",
       "  <tbody>\n",
       "    <tr>\n",
       "      <th>Tumor (Positive)</th>\n",
       "      <td>38.0</td>\n",
       "      <td>2.0</td>\n",
       "      <td>18.0</td>\n",
       "      <td>22.0</td>\n",
       "      <td>21</td>\n",
       "      <td>NaN</td>\n",
       "    </tr>\n",
       "    <tr>\n",
       "      <th>Non-Tumor (Negative)</th>\n",
       "      <td>19.0</td>\n",
       "      <td>439.0</td>\n",
       "      <td>6.0</td>\n",
       "      <td>452.0</td>\n",
       "      <td>226</td>\n",
       "      <td>232.0</td>\n",
       "    </tr>\n",
       "  </tbody>\n",
       "</table>\n",
       "</div>"
      ],
      "text/plain": [
       "Model:               Decision Tree            ... Random          \n",
       "Predicted:                   Tumor Non-Tumor  ...  Tumor Non-Tumor\n",
       "Actual Label:                                 ...                 \n",
       "Tumor (Positive)              38.0       2.0  ...     21       NaN\n",
       "Non-Tumor (Negative)          19.0     439.0  ...    226     232.0\n",
       "\n",
       "[2 rows x 6 columns]"
      ]
     },
     "execution_count": 19,
     "metadata": {},
     "output_type": "execute_result"
    }
   ],
   "source": [
    "df = pd.DataFrame([\n",
    "    [38.0, 2.0, 18.0, 22.0, 21, np.nan],\n",
    "    [19, 439, 6, 452, 226, 232]],\n",
    "    index=pd.Index(['Tumor (Positive)', 'Non-Tumor (Negative)'], name='Actual Label:'),\n",
    "    columns=pd.MultiIndex.from_product([\n",
    "        ['Decision Tree', 'Regression', 'Random'],\n",
    "        ['Tumor', 'Non-Tumor']\n",
    "    ], names=['Model:', 'Predicted:'])\n",
    ")\n",
    "df"
   ]
  },
  {
   "cell_type": "code",
   "execution_count": null,
   "id": "76a2ab88-a277-4a4e-9389-fd1937a521f7",
   "metadata": {},
   "outputs": [],
   "source": []
  },
  {
   "cell_type": "code",
   "execution_count": null,
   "id": "160607d7-69c0-4cc0-a94c-3860bb02b85e",
   "metadata": {},
   "outputs": [],
   "source": []
  },
  {
   "cell_type": "code",
   "execution_count": null,
   "id": "d05de4d8-8040-4fe7-bb4a-a8df368768e7",
   "metadata": {},
   "outputs": [],
   "source": []
  },
  {
   "cell_type": "code",
   "execution_count": null,
   "id": "e9afe4a1-59d0-42ca-a37d-761351012d87",
   "metadata": {},
   "outputs": [],
   "source": []
  },
  {
   "cell_type": "code",
   "execution_count": null,
   "id": "a59a886a-e049-4e04-8d41-101733269f55",
   "metadata": {},
   "outputs": [],
   "source": []
  }
 ],
 "metadata": {
  "kernelspec": {
   "display_name": "Python 3 (ipykernel)",
   "language": "python",
   "name": "python3"
  },
  "language_info": {
   "codemirror_mode": {
    "name": "ipython",
    "version": 3
   },
   "file_extension": ".py",
   "mimetype": "text/x-python",
   "name": "python",
   "nbconvert_exporter": "python",
   "pygments_lexer": "ipython3",
   "version": "3.8.12"
  }
 },
 "nbformat": 4,
 "nbformat_minor": 5
}
