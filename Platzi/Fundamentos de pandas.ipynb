{
 "cells": [
  {
   "cell_type": "markdown",
   "id": "c7e657ed-c492-47b7-b49c-3debfc4ad6e7",
   "metadata": {},
   "source": [
    "## Librerias"
   ]
  },
  {
   "cell_type": "code",
   "execution_count": 1,
   "id": "96ad3087-a603-402a-85da-753ee852f6e7",
   "metadata": {},
   "outputs": [],
   "source": [
    "import pandas as pd\n",
    "import numpy as np"
   ]
  },
  {
   "cell_type": "code",
   "execution_count": 2,
   "id": "31ccfd3b-aa53-45a1-9d7e-2b44a878367d",
   "metadata": {},
   "outputs": [],
   "source": [
    "pd.options.display.max_columns = False"
   ]
  },
  {
   "cell_type": "markdown",
   "id": "e8971564-f54e-4378-b14e-84f913ed1497",
   "metadata": {},
   "source": [
    "## **1. Introducción a pandas**"
   ]
  },
  {
   "cell_type": "markdown",
   "id": "8d3dcaee-1f57-4704-a0ce-145803af3983",
   "metadata": {},
   "source": [
    "### **1.1 Series**"
   ]
  },
  {
   "cell_type": "markdown",
   "id": "4d5d9816-cbae-4f93-b436-7bd5a6acfde3",
   "metadata": {},
   "source": [
    "<ul>\n",
    "    <li>Son arreglos unidimensionales indexados.</li>\n",
    "    <li>Nos permiten hacer slicing y buscar por el índice.</li>\n",
    "    <li>Tambien nos permiten realizar operaciones matemáticas.</li>\n",
    "    <li>Reciben distintos tipos de datos.</li>\n",
    "</ul>"
   ]
  },
  {
   "cell_type": "code",
   "execution_count": 3,
   "id": "6a2ac8bf-0b81-416a-8881-87fe662c11ef",
   "metadata": {},
   "outputs": [
    {
     "data": {
      "text/plain": [
       "1           El ojo del mundo\n",
       "2            La gran cacería\n",
       "3         El dragón renacido\n",
       "4    El ascenso de la sombra\n",
       "5         El dragón renacido\n",
       "dtype: object"
      ]
     },
     "execution_count": 3,
     "metadata": {},
     "output_type": "execute_result"
    }
   ],
   "source": [
    "a = pd.Series(\n",
    "    ['El ojo del mundo', 'La gran cacería', 'El dragón renacido', 'El ascenso de la sombra', 'El dragón renacido'],\n",
    "    index=[1, 2, 3, 4, 5]\n",
    ")\n",
    "a"
   ]
  },
  {
   "cell_type": "markdown",
   "id": "9f0fa182-3ca7-4520-aa2e-d13b226f8191",
   "metadata": {},
   "source": [
    "### **1.2 DataFrames**"
   ]
  },
  {
   "cell_type": "markdown",
   "id": "f5d655ca-eace-4edc-a7d5-54243ad436b0",
   "metadata": {},
   "source": [
    "<ul>\n",
    "    <li>Son la estructura principal de <strong>pandas</strong>.</li>\n",
    "    <li>Son arreglos de dos dimensiones.</li>\n",
    "    <li>Vienen indexados por lo que facilitan la búsqueda por columnas o filas.</li>\n",
    "</ul>"
   ]
  },
  {
   "cell_type": "markdown",
   "id": "f673d1dc-29f3-4053-8ad3-64425b4ed9cb",
   "metadata": {},
   "source": [
    "#### **Leyendo archivos**"
   ]
  },
  {
   "cell_type": "code",
   "execution_count": 6,
   "id": "0be9fadd-a213-4736-a227-a61db5129de7",
   "metadata": {},
   "outputs": [],
   "source": [
    "df = pd.read_csv('Data/bestsellers.csv')"
   ]
  },
  {
   "cell_type": "code",
   "execution_count": 8,
   "id": "c18f9575-67af-4448-b350-615d87084638",
   "metadata": {},
   "outputs": [],
   "source": [
    "df_js = pd.read_json('Data/characters.json')"
   ]
  },
  {
   "cell_type": "code",
   "execution_count": 14,
   "id": "82db25a0-0795-466a-8d4f-8f05f7c952cf",
   "metadata": {},
   "outputs": [
    {
     "data": {
      "text/html": [
       "<div>\n",
       "<style scoped>\n",
       "    .dataframe tbody tr th:only-of-type {\n",
       "        vertical-align: middle;\n",
       "    }\n",
       "\n",
       "    .dataframe tbody tr th {\n",
       "        vertical-align: top;\n",
       "    }\n",
       "\n",
       "    .dataframe thead th {\n",
       "        text-align: right;\n",
       "    }\n",
       "</style>\n",
       "<table border=\"1\" class=\"dataframe\">\n",
       "  <thead>\n",
       "    <tr style=\"text-align: right;\">\n",
       "      <th></th>\n",
       "      <th>Name</th>\n",
       "      <th>Link</th>\n",
       "      <th>Descr</th>\n",
       "      <th>Gender</th>\n",
       "      <th>Species/Race</th>\n",
       "      <th>Blood</th>\n",
       "      <th>School</th>\n",
       "      <th>Profession</th>\n",
       "    </tr>\n",
       "  </thead>\n",
       "  <tbody>\n",
       "    <tr>\n",
       "      <th>0</th>\n",
       "      <td>Mrs. Abbott</td>\n",
       "      <td>https://www.hp-lexicon.org/character/abbott-fa...</td>\n",
       "      <td>Mrs. Abbott was the mother of Hannah Abbott, a...</td>\n",
       "      <td>Female</td>\n",
       "      <td>Witch</td>\n",
       "      <td>Muggle-born</td>\n",
       "      <td>Unknown</td>\n",
       "      <td>Unknown</td>\n",
       "    </tr>\n",
       "    <tr>\n",
       "      <th>1</th>\n",
       "      <td>Hannah Abbott</td>\n",
       "      <td>https://www.hp-lexicon.org/character/abbott-fa...</td>\n",
       "      <td>Hannah Abbott is a Hufflepuff student in Harry...</td>\n",
       "      <td>Female</td>\n",
       "      <td>Witch</td>\n",
       "      <td>Half-blood</td>\n",
       "      <td>Hogwarts - Hufflepuff</td>\n",
       "      <td>Landlady of the Leaky Cauldron</td>\n",
       "    </tr>\n",
       "    <tr>\n",
       "      <th>2</th>\n",
       "      <td>Abel Treetops</td>\n",
       "      <td>https://www.hp-lexicon.org/character/abel-tree...</td>\n",
       "      <td>Abel Treetops was a wizard from Cincinnati who...</td>\n",
       "      <td>Male</td>\n",
       "      <td>Wizard</td>\n",
       "      <td>Unknown</td>\n",
       "      <td>Unknown</td>\n",
       "      <td>Unknown</td>\n",
       "    </tr>\n",
       "    <tr>\n",
       "      <th>3</th>\n",
       "      <td>Euan Abercrombie</td>\n",
       "      <td>https://www.hp-lexicon.org/character/abercromb...</td>\n",
       "      <td>Euan Abercrombie was a small boy with prominen...</td>\n",
       "      <td>Male</td>\n",
       "      <td>Wizard</td>\n",
       "      <td>Unknown</td>\n",
       "      <td>Hogwarts - Gryffindor</td>\n",
       "      <td>Unknown</td>\n",
       "    </tr>\n",
       "    <tr>\n",
       "      <th>4</th>\n",
       "      <td>Aberforth Dumbledore</td>\n",
       "      <td>https://www.hp-lexicon.org/character/dumbledor...</td>\n",
       "      <td>Aberforth Dumbledore was a tall, thin, grumpy-...</td>\n",
       "      <td>Male</td>\n",
       "      <td>Wizard</td>\n",
       "      <td>Half-blood</td>\n",
       "      <td>Hogwarts - Student</td>\n",
       "      <td>Barman</td>\n",
       "    </tr>\n",
       "    <tr>\n",
       "      <th>...</th>\n",
       "      <td>...</td>\n",
       "      <td>...</td>\n",
       "      <td>...</td>\n",
       "      <td>...</td>\n",
       "      <td>...</td>\n",
       "      <td>...</td>\n",
       "      <td>...</td>\n",
       "      <td>...</td>\n",
       "    </tr>\n",
       "    <tr>\n",
       "      <th>1935</th>\n",
       "      <td>Georgi Zdravko</td>\n",
       "      <td>https://www.hp-lexicon.org/character/georgi-zd...</td>\n",
       "      <td>Georgi Zdravko played Keeper for the Bulgarian...</td>\n",
       "      <td>Male</td>\n",
       "      <td>Wizard</td>\n",
       "      <td>Unknown</td>\n",
       "      <td>Unknown</td>\n",
       "      <td>Quidditch player (Seeker)</td>\n",
       "    </tr>\n",
       "    <tr>\n",
       "      <th>1936</th>\n",
       "      <td>Zograf</td>\n",
       "      <td>https://www.hp-lexicon.org/character/zograf/</td>\n",
       "      <td>Zograf played Keeper for the Bulgarian Nationa...</td>\n",
       "      <td>NaN</td>\n",
       "      <td>Wizard</td>\n",
       "      <td>Unknown</td>\n",
       "      <td>Unknown</td>\n",
       "      <td>Quidditch player (Keeper)</td>\n",
       "    </tr>\n",
       "    <tr>\n",
       "      <th>1937</th>\n",
       "      <td>Zonko</td>\n",
       "      <td>https://www.hp-lexicon.org/character/zonko/</td>\n",
       "      <td>Founder(?) of Zonko’s Joke Shop. Possibly a re...</td>\n",
       "      <td>NaN</td>\n",
       "      <td>Unknown</td>\n",
       "      <td>Unknown</td>\n",
       "      <td>Unknown</td>\n",
       "      <td>Unknown</td>\n",
       "    </tr>\n",
       "    <tr>\n",
       "      <th>1938</th>\n",
       "      <td>Valentina Vázquez</td>\n",
       "      <td>https://www.hp-lexicon.org/character/valentina...</td>\n",
       "      <td>Valentina Vázquez was President of the Argenti...</td>\n",
       "      <td>Female</td>\n",
       "      <td>Witch</td>\n",
       "      <td>Unknown</td>\n",
       "      <td>Unknown</td>\n",
       "      <td>President of the Argentinian Council of Magic</td>\n",
       "    </tr>\n",
       "    <tr>\n",
       "      <th>1939</th>\n",
       "      <td>Zygmunt Budge</td>\n",
       "      <td>https://www.hp-lexicon.org/character/zygmunt-b...</td>\n",
       "      <td>Zygmunt Budge is considered to be one of the m...</td>\n",
       "      <td>Male</td>\n",
       "      <td>Wizard</td>\n",
       "      <td>Unknown</td>\n",
       "      <td>Hogwarts - Student</td>\n",
       "      <td>Potions Master, Potioneer, Inventor, Author</td>\n",
       "    </tr>\n",
       "  </tbody>\n",
       "</table>\n",
       "<p>1940 rows × 8 columns</p>\n",
       "</div>"
      ],
      "text/plain": [
       "                      Name  ...                                     Profession\n",
       "0              Mrs. Abbott  ...                                        Unknown\n",
       "1            Hannah Abbott  ...                 Landlady of the Leaky Cauldron\n",
       "2            Abel Treetops  ...                                        Unknown\n",
       "3         Euan Abercrombie  ...                                        Unknown\n",
       "4     Aberforth Dumbledore  ...                                         Barman\n",
       "...                    ...  ...                                            ...\n",
       "1935        Georgi Zdravko  ...                      Quidditch player (Seeker)\n",
       "1936                Zograf  ...                      Quidditch player (Keeper)\n",
       "1937                 Zonko  ...                                        Unknown\n",
       "1938     Valentina Vázquez  ...  President of the Argentinian Council of Magic\n",
       "1939         Zygmunt Budge  ...    Potions Master, Potioneer, Inventor, Author\n",
       "\n",
       "[1940 rows x 8 columns]"
      ]
     },
     "execution_count": 14,
     "metadata": {},
     "output_type": "execute_result"
    }
   ],
   "source": [
    "df_js"
   ]
  }
 ],
 "metadata": {
  "kernelspec": {
   "display_name": "Python 3 (ipykernel)",
   "language": "python",
   "name": "python3"
  },
  "language_info": {
   "codemirror_mode": {
    "name": "ipython",
    "version": 3
   },
   "file_extension": ".py",
   "mimetype": "text/x-python",
   "name": "python",
   "nbconvert_exporter": "python",
   "pygments_lexer": "ipython3",
   "version": "3.8.12"
  }
 },
 "nbformat": 4,
 "nbformat_minor": 5
}
