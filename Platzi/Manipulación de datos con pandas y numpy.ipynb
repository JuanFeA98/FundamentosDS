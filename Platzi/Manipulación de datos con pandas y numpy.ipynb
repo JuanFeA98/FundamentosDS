{
 "cells": [
  {
   "cell_type": "markdown",
   "id": "964a8674-434f-4653-bc81-9c582bcade84",
   "metadata": {},
   "source": [
    "## **Librerias**"
   ]
  },
  {
   "cell_type": "code",
   "execution_count": 4,
   "id": "ec2531cc-caf7-49c7-8318-96eddbeffbc4",
   "metadata": {},
   "outputs": [],
   "source": [
    "import pandas as pd\n",
    "import numpy as np"
   ]
  },
  {
   "cell_type": "code",
   "execution_count": 5,
   "id": "b5e57888-4f1c-496c-93f3-c04ff0a24772",
   "metadata": {},
   "outputs": [],
   "source": [
    "pd.options.display.max_columns = False"
   ]
  },
  {
   "cell_type": "markdown",
   "id": "3263213a-6b55-4baf-aaea-e55d42f58181",
   "metadata": {},
   "source": [
    "## **1. Introducción a Numpy**"
   ]
  },
  {
   "cell_type": "markdown",
   "id": "d3e5aeaa-2ef3-4c67-970e-1058c1253f37",
   "metadata": {},
   "source": [
    "### **1.1 Arrays**"
   ]
  },
  {
   "cell_type": "markdown",
   "id": "f2af11d8-ad48-4e5b-a1ec-b2d7b55bdefc",
   "metadata": {},
   "source": [
    "<ul>\n",
    "    <li>Son la estructura central de <strong>Numpy.</strong></li>\n",
    "    <li>Representan datos de una manera estructurada.</li>\n",
    "    <li>Indexado.</li>\n",
    "    <li>Permite acceder a uno o varios elementos.</li>\n",
    "</ul>"
   ]
  },
  {
   "cell_type": "markdown",
   "id": "e954f485-869c-4c94-a4ff-b9de70ae7609",
   "metadata": {},
   "source": [
    "#### **Creación de arrays**"
   ]
  },
  {
   "cell_type": "code",
   "execution_count": 4,
   "id": "539c3d4d-33c1-4521-9f4f-6f3b57607aa0",
   "metadata": {},
   "outputs": [
    {
     "data": {
      "text/plain": [
       "array([1, 2, 3, 4, 5, 6, 7, 8, 9])"
      ]
     },
     "execution_count": 4,
     "metadata": {},
     "output_type": "execute_result"
    }
   ],
   "source": [
    "# Creamos un array unidimensional\n",
    "a = np.array([1, 2, 3, 4, 5, 6, 7, 8, 9])\n",
    "a"
   ]
  },
  {
   "cell_type": "code",
   "execution_count": 5,
   "id": "2b43e45f-ad3f-4b80-a95c-fea64e740dcf",
   "metadata": {},
   "outputs": [
    {
     "data": {
      "text/plain": [
       "array([[1, 2, 3],\n",
       "       [4, 5, 6],\n",
       "       [7, 8, 9]])"
      ]
     },
     "execution_count": 5,
     "metadata": {},
     "output_type": "execute_result"
    }
   ],
   "source": [
    "# Creamos un array bidimensional\n",
    "b = np.array([[1, 2, 3], [4, 5, 6], [7, 8, 9]])\n",
    "b"
   ]
  },
  {
   "cell_type": "code",
   "execution_count": 6,
   "id": "b4cd96f7-880e-498a-abf4-dfa52b638624",
   "metadata": {},
   "outputs": [
    {
     "data": {
      "text/plain": [
       "numpy.ndarray"
      ]
     },
     "execution_count": 6,
     "metadata": {},
     "output_type": "execute_result"
    }
   ],
   "source": [
    "# Vemos que efectivamente es un array\n",
    "type(a)"
   ]
  },
  {
   "cell_type": "code",
   "execution_count": 7,
   "id": "de2c0c22-d2ab-4bde-b4d5-e6df69987fbd",
   "metadata": {},
   "outputs": [
    {
     "data": {
      "text/plain": [
       "(3, 3)"
      ]
     },
     "execution_count": 7,
     "metadata": {},
     "output_type": "execute_result"
    }
   ],
   "source": [
    "# Vemos las dimensiones del array\n",
    "b.shape"
   ]
  },
  {
   "cell_type": "markdown",
   "id": "0eb701d6-249e-4a03-9184-a08434006515",
   "metadata": {},
   "source": [
    "#### **Llamando a los elementos**"
   ]
  },
  {
   "cell_type": "code",
   "execution_count": 8,
   "id": "8c70a17c-e9cb-4b02-88c1-42cba898eecb",
   "metadata": {},
   "outputs": [
    {
     "data": {
      "text/plain": [
       "1"
      ]
     },
     "execution_count": 8,
     "metadata": {},
     "output_type": "execute_result"
    }
   ],
   "source": [
    "# Seleccionamos un elemento por el indice del array\n",
    "a[0]"
   ]
  },
  {
   "cell_type": "code",
   "execution_count": 9,
   "id": "9f35ffac-2f6c-4bd4-b911-c340e04cd383",
   "metadata": {},
   "outputs": [
    {
     "data": {
      "text/plain": [
       "array([1, 2, 3])"
      ]
     },
     "execution_count": 9,
     "metadata": {},
     "output_type": "execute_result"
    }
   ],
   "source": [
    "# Tambien funciona con arrays bidimensionales\n",
    "b[0]"
   ]
  },
  {
   "cell_type": "code",
   "execution_count": 10,
   "id": "3851f63f-f576-4178-a880-b08b096160ad",
   "metadata": {},
   "outputs": [
    {
     "data": {
      "text/plain": [
       "2"
      ]
     },
     "execution_count": 10,
     "metadata": {},
     "output_type": "execute_result"
    }
   ],
   "source": [
    "# Y tambien podemos traer un elemento en especifico\n",
    "b[0][1]"
   ]
  },
  {
   "cell_type": "code",
   "execution_count": 11,
   "id": "d2b6d6c7-e406-451e-a071-caff2cad5190",
   "metadata": {},
   "outputs": [
    {
     "data": {
      "text/plain": [
       "2"
      ]
     },
     "execution_count": 11,
     "metadata": {},
     "output_type": "execute_result"
    }
   ],
   "source": [
    "b[0, 1]"
   ]
  },
  {
   "cell_type": "code",
   "execution_count": 12,
   "id": "5631ac33-85f2-47a0-b551-fc782ddbafae",
   "metadata": {},
   "outputs": [
    {
     "data": {
      "text/plain": [
       "array([1, 2, 3, 4])"
      ]
     },
     "execution_count": 12,
     "metadata": {},
     "output_type": "execute_result"
    }
   ],
   "source": [
    "# Podemos usar slicing para llamar varios elementos a la vez\n",
    "a[:4]"
   ]
  },
  {
   "cell_type": "code",
   "execution_count": 13,
   "id": "01b20524-dd08-4420-8116-9195c3869393",
   "metadata": {},
   "outputs": [
    {
     "data": {
      "text/plain": [
       "array([1, 3, 5, 7, 9])"
      ]
     },
     "execution_count": 13,
     "metadata": {},
     "output_type": "execute_result"
    }
   ],
   "source": [
    "# Traer varios elementos con algunas reglas (En este caso de dos en dos)\n",
    "a[::2]"
   ]
  },
  {
   "cell_type": "code",
   "execution_count": 14,
   "id": "2315c206-9144-4df6-afaa-a0f9c234f697",
   "metadata": {},
   "outputs": [
    {
     "data": {
      "text/plain": [
       "array([[4, 5],\n",
       "       [7, 8]])"
      ]
     },
     "execution_count": 14,
     "metadata": {},
     "output_type": "execute_result"
    }
   ],
   "source": [
    "# Aplicamos slicing en una matriz, en este caso primero indicamos las filas y luego las columnas\n",
    "b[1:, :2]"
   ]
  },
  {
   "cell_type": "markdown",
   "id": "ab297d7c-f8a9-4b57-b6e1-7803079b4fc7",
   "metadata": {},
   "source": [
    "#### **Tipo de datos**"
   ]
  },
  {
   "cell_type": "code",
   "execution_count": 26,
   "id": "8613205c-3db8-4ee0-b635-31b8c3971c95",
   "metadata": {},
   "outputs": [
    {
     "data": {
      "text/plain": [
       "dtype('float64')"
      ]
     },
     "execution_count": 26,
     "metadata": {},
     "output_type": "execute_result"
    }
   ],
   "source": [
    "# Determinar el tipo de datos del array\n",
    "a = np.array([1, 2, 3, 4], dtype='float64')\n",
    "a.dtype"
   ]
  },
  {
   "cell_type": "code",
   "execution_count": 28,
   "id": "1a581295-21db-4019-97ba-61673d233fda",
   "metadata": {},
   "outputs": [
    {
     "data": {
      "text/plain": [
       "array([1, 2, 3, 4], dtype=int64)"
      ]
     },
     "execution_count": 28,
     "metadata": {},
     "output_type": "execute_result"
    }
   ],
   "source": [
    "# Cambiar el tipo de datos\n",
    "a.astype(np.int64)"
   ]
  },
  {
   "cell_type": "markdown",
   "id": "3219efdf-233d-4a2b-8329-335427da4c54",
   "metadata": {},
   "source": [
    "#### **Crear arrays con numpy**"
   ]
  },
  {
   "cell_type": "code",
   "execution_count": 30,
   "id": "dd0e4615-a749-4e09-aba1-57bdb6dcb18a",
   "metadata": {},
   "outputs": [
    {
     "data": {
      "text/plain": [
       "array([1, 3, 5, 7, 9])"
      ]
     },
     "execution_count": 30,
     "metadata": {},
     "output_type": "execute_result"
    }
   ],
   "source": [
    "# Crear un array de una secuencia\n",
    "a = np.arange(1, 11, 2)\n",
    "a"
   ]
  },
  {
   "cell_type": "code",
   "execution_count": 29,
   "id": "da7893fb-b8fd-47ab-96fc-288bb8b9faa6",
   "metadata": {},
   "outputs": [
    {
     "data": {
      "text/plain": [
       "array([[0., 0.],\n",
       "       [0., 0.],\n",
       "       [0., 0.],\n",
       "       [0., 0.],\n",
       "       [0., 0.],\n",
       "       [0., 0.],\n",
       "       [0., 0.],\n",
       "       [0., 0.],\n",
       "       [0., 0.],\n",
       "       [0., 0.]])"
      ]
     },
     "execution_count": 29,
     "metadata": {},
     "output_type": "execute_result"
    }
   ],
   "source": [
    "# Crear un array de ceros\n",
    "b = np.zeros((10,2))\n",
    "b"
   ]
  },
  {
   "cell_type": "code",
   "execution_count": 28,
   "id": "f8167422-3631-44b3-93ff-3b6a06bd19cb",
   "metadata": {},
   "outputs": [
    {
     "data": {
      "text/plain": [
       "array([1., 1., 1., 1., 1., 1., 1., 1., 1., 1.])"
      ]
     },
     "execution_count": 28,
     "metadata": {},
     "output_type": "execute_result"
    }
   ],
   "source": [
    "# Crear un array de unos\n",
    "c = np.ones(10)\n",
    "c"
   ]
  },
  {
   "cell_type": "code",
   "execution_count": 35,
   "id": "62f26a40-8219-4816-9bb8-df565cbb056a",
   "metadata": {},
   "outputs": [
    {
     "data": {
      "text/plain": [
       "array([ 0.        ,  1.11111111,  2.22222222,  3.33333333,  4.44444444,\n",
       "        5.55555556,  6.66666667,  7.77777778,  8.88888889, 10.        ])"
      ]
     },
     "execution_count": 35,
     "metadata": {},
     "output_type": "execute_result"
    }
   ],
   "source": [
    "# Crear un array de una secuencia distribuida\n",
    "d = np.linspace(0, 10, 10)\n",
    "d"
   ]
  },
  {
   "cell_type": "code",
   "execution_count": 37,
   "id": "cea5e6af-05b3-4f6c-889f-60e669522d3a",
   "metadata": {},
   "outputs": [
    {
     "data": {
      "text/plain": [
       "array([[1., 0., 0.],\n",
       "       [0., 1., 0.],\n",
       "       [0., 0., 1.]])"
      ]
     },
     "execution_count": 37,
     "metadata": {},
     "output_type": "execute_result"
    }
   ],
   "source": [
    "# Crear una matriz identidad\n",
    "e = np.eye(3)\n",
    "e"
   ]
  },
  {
   "cell_type": "code",
   "execution_count": 48,
   "id": "3fca279f-a07a-429d-924e-01b256fe12dd",
   "metadata": {},
   "outputs": [
    {
     "data": {
      "text/plain": [
       "array([[0.88114882, 0.0749444 ],\n",
       "       [0.11253897, 0.10903496]])"
      ]
     },
     "execution_count": 48,
     "metadata": {},
     "output_type": "execute_result"
    }
   ],
   "source": [
    "# Crear un array con números aleatorios entre 0 y 1\n",
    "f = np.random.rand(2, 2)\n",
    "f"
   ]
  },
  {
   "cell_type": "code",
   "execution_count": 50,
   "id": "08f4627b-78dc-4fff-b721-1977fa51a69e",
   "metadata": {},
   "outputs": [
    {
     "data": {
      "text/plain": [
       "array([[1, 6, 6],\n",
       "       [3, 4, 2],\n",
       "       [1, 5, 2]])"
      ]
     },
     "execution_count": 50,
     "metadata": {},
     "output_type": "execute_result"
    }
   ],
   "source": [
    "# Crear un array con números aleatorios entre un rango\n",
    "g = np.random.randint(1, 10, (3, 3))\n",
    "g"
   ]
  }
 ],
 "metadata": {
  "kernelspec": {
   "display_name": "Python 3 (ipykernel)",
   "language": "python",
   "name": "python3"
  },
  "language_info": {
   "codemirror_mode": {
    "name": "ipython",
    "version": 3
   },
   "file_extension": ".py",
   "mimetype": "text/x-python",
   "name": "python",
   "nbconvert_exporter": "python",
   "pygments_lexer": "ipython3",
   "version": "3.8.12"
  }
 },
 "nbformat": 4,
 "nbformat_minor": 5
}
