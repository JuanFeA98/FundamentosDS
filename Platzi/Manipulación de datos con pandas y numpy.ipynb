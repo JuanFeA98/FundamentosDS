{
 "cells": [
  {
   "cell_type": "markdown",
   "id": "964a8674-434f-4653-bc81-9c582bcade84",
   "metadata": {},
   "source": [
    "## **Librerias**"
   ]
  },
  {
   "cell_type": "code",
   "execution_count": 1,
   "id": "ec2531cc-caf7-49c7-8318-96eddbeffbc4",
   "metadata": {},
   "outputs": [],
   "source": [
    "import pandas as pd\n",
    "import numpy as np"
   ]
  },
  {
   "cell_type": "code",
   "execution_count": 2,
   "id": "b5e57888-4f1c-496c-93f3-c04ff0a24772",
   "metadata": {},
   "outputs": [],
   "source": [
    "pd.options.display.max_columns = False"
   ]
  },
  {
   "cell_type": "markdown",
   "id": "3263213a-6b55-4baf-aaea-e55d42f58181",
   "metadata": {},
   "source": [
    "## **Introducción a Numpy**"
   ]
  },
  {
   "cell_type": "markdown",
   "id": "d3e5aeaa-2ef3-4c67-970e-1058c1253f37",
   "metadata": {},
   "source": [
    "### **Arrays**"
   ]
  },
  {
   "cell_type": "markdown",
   "id": "f2af11d8-ad48-4e5b-a1ec-b2d7b55bdefc",
   "metadata": {},
   "source": [
    "<ul>\n",
    "    <li>Son la estructura central de <strong>Numpy.</strong></li>\n",
    "    <li>Representan datos de una manera estructurada.</li>\n",
    "    <li>Indexado.</li>\n",
    "    <li>Permite acceder a uno o varios elementos.</li>\n",
    "</ul>"
   ]
  },
  {
   "cell_type": "code",
   "execution_count": 5,
   "id": "539c3d4d-33c1-4521-9f4f-6f3b57607aa0",
   "metadata": {},
   "outputs": [
    {
     "data": {
      "text/plain": [
       "array([1, 2, 3])"
      ]
     },
     "execution_count": 5,
     "metadata": {},
     "output_type": "execute_result"
    }
   ],
   "source": [
    "a = np.array([1, 2, 3])\n",
    "a"
   ]
  },
  {
   "cell_type": "code",
   "execution_count": 8,
   "id": "b4cd96f7-880e-498a-abf4-dfa52b638624",
   "metadata": {},
   "outputs": [
    {
     "data": {
      "text/plain": [
       "array([1, 2, 3])"
      ]
     },
     "execution_count": 8,
     "metadata": {},
     "output_type": "execute_result"
    }
   ],
   "source": [
    "a"
   ]
  },
  {
   "cell_type": "code",
   "execution_count": null,
   "id": "de2c0c22-d2ab-4bde-b4d5-e6df69987fbd",
   "metadata": {},
   "outputs": [],
   "source": []
  },
  {
   "cell_type": "code",
   "execution_count": null,
   "id": "8c70a17c-e9cb-4b02-88c1-42cba898eecb",
   "metadata": {},
   "outputs": [],
   "source": []
  }
 ],
 "metadata": {
  "kernelspec": {
   "display_name": "Python 3 (ipykernel)",
   "language": "python",
   "name": "python3"
  },
  "language_info": {
   "codemirror_mode": {
    "name": "ipython",
    "version": 3
   },
   "file_extension": ".py",
   "mimetype": "text/x-python",
   "name": "python",
   "nbconvert_exporter": "python",
   "pygments_lexer": "ipython3",
   "version": "3.8.12"
  }
 },
 "nbformat": 4,
 "nbformat_minor": 5
}
