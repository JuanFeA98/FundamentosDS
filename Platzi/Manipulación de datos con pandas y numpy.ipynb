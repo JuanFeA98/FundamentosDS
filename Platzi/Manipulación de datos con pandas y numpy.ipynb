{
 "cells": [
  {
   "cell_type": "markdown",
   "id": "964a8674-434f-4653-bc81-9c582bcade84",
   "metadata": {},
   "source": [
    "## **Librerias**"
   ]
  },
  {
   "cell_type": "code",
   "execution_count": 1,
   "id": "ec2531cc-caf7-49c7-8318-96eddbeffbc4",
   "metadata": {},
   "outputs": [],
   "source": [
    "import pandas as pd\n",
    "import numpy as np"
   ]
  },
  {
   "cell_type": "code",
   "execution_count": 2,
   "id": "b5e57888-4f1c-496c-93f3-c04ff0a24772",
   "metadata": {},
   "outputs": [],
   "source": [
    "pd.options.display.max_columns = False"
   ]
  },
  {
   "cell_type": "markdown",
   "id": "3263213a-6b55-4baf-aaea-e55d42f58181",
   "metadata": {},
   "source": [
    "## **Introducción a Numpy**"
   ]
  },
  {
   "cell_type": "markdown",
   "id": "d3e5aeaa-2ef3-4c67-970e-1058c1253f37",
   "metadata": {},
   "source": [
    "### **Arrays**"
   ]
  },
  {
   "cell_type": "markdown",
   "id": "f2af11d8-ad48-4e5b-a1ec-b2d7b55bdefc",
   "metadata": {},
   "source": [
    "<ul>\n",
    "    <li>Son la estructura central de <strong>Numpy.</strong></li>\n",
    "    <li>Representan datos de una manera estructurada.</li>\n",
    "    <li>Indexado.</li>\n",
    "    <li>Permite acceder a uno o varios elementos.</li>\n",
    "</ul>"
   ]
  },
  {
   "cell_type": "markdown",
   "id": "e954f485-869c-4c94-a4ff-b9de70ae7609",
   "metadata": {},
   "source": [
    "**Creación de arrays**"
   ]
  },
  {
   "cell_type": "code",
   "execution_count": 31,
   "id": "539c3d4d-33c1-4521-9f4f-6f3b57607aa0",
   "metadata": {},
   "outputs": [
    {
     "data": {
      "text/plain": [
       "array([1, 2, 3, 4, 5, 6, 7, 8, 9])"
      ]
     },
     "execution_count": 31,
     "metadata": {},
     "output_type": "execute_result"
    }
   ],
   "source": [
    "# Creamos un array unidimensional\n",
    "a = np.array([1, 2, 3, 4, 5, 6, 7, 8, 9])\n",
    "a"
   ]
  },
  {
   "cell_type": "code",
   "execution_count": 32,
   "id": "2b43e45f-ad3f-4b80-a95c-fea64e740dcf",
   "metadata": {},
   "outputs": [
    {
     "data": {
      "text/plain": [
       "array([[1, 2, 3],\n",
       "       [4, 5, 6]])"
      ]
     },
     "execution_count": 32,
     "metadata": {},
     "output_type": "execute_result"
    }
   ],
   "source": [
    "# Creamos un array bidimensional\n",
    "b = np.array([[1, 2, 3], [4, 5, 6]])\n",
    "b"
   ]
  },
  {
   "cell_type": "code",
   "execution_count": 33,
   "id": "b4cd96f7-880e-498a-abf4-dfa52b638624",
   "metadata": {},
   "outputs": [
    {
     "data": {
      "text/plain": [
       "numpy.ndarray"
      ]
     },
     "execution_count": 33,
     "metadata": {},
     "output_type": "execute_result"
    }
   ],
   "source": [
    "# Vemos que efectivamente es un array\n",
    "type(a)"
   ]
  },
  {
   "cell_type": "code",
   "execution_count": 34,
   "id": "de2c0c22-d2ab-4bde-b4d5-e6df69987fbd",
   "metadata": {},
   "outputs": [
    {
     "data": {
      "text/plain": [
       "(2, 3)"
      ]
     },
     "execution_count": 34,
     "metadata": {},
     "output_type": "execute_result"
    }
   ],
   "source": [
    "# Vemos las dimensiones del array\n",
    "b.shape"
   ]
  },
  {
   "cell_type": "markdown",
   "id": "0eb701d6-249e-4a03-9184-a08434006515",
   "metadata": {},
   "source": [
    "**Llamando a los elementos**"
   ]
  },
  {
   "cell_type": "code",
   "execution_count": 35,
   "id": "8c70a17c-e9cb-4b02-88c1-42cba898eecb",
   "metadata": {},
   "outputs": [
    {
     "data": {
      "text/plain": [
       "1"
      ]
     },
     "execution_count": 35,
     "metadata": {},
     "output_type": "execute_result"
    }
   ],
   "source": [
    "# Seleccionamos un elemento por el indice del array\n",
    "a[0]"
   ]
  },
  {
   "cell_type": "code",
   "execution_count": 36,
   "id": "9f35ffac-2f6c-4bd4-b911-c340e04cd383",
   "metadata": {},
   "outputs": [
    {
     "data": {
      "text/plain": [
       "array([1, 2, 3])"
      ]
     },
     "execution_count": 36,
     "metadata": {},
     "output_type": "execute_result"
    }
   ],
   "source": [
    "# Tambien funciona con arrays bidimensionales\n",
    "b[0]"
   ]
  },
  {
   "cell_type": "code",
   "execution_count": 37,
   "id": "3851f63f-f576-4178-a880-b08b096160ad",
   "metadata": {},
   "outputs": [
    {
     "data": {
      "text/plain": [
       "2"
      ]
     },
     "execution_count": 37,
     "metadata": {},
     "output_type": "execute_result"
    }
   ],
   "source": [
    "# Y tambien podemos traer un elemento en especifico\n",
    "b[0][1]"
   ]
  },
  {
   "cell_type": "code",
   "execution_count": 19,
   "id": "d2b6d6c7-e406-451e-a071-caff2cad5190",
   "metadata": {},
   "outputs": [
    {
     "data": {
      "text/plain": [
       "2"
      ]
     },
     "execution_count": 19,
     "metadata": {},
     "output_type": "execute_result"
    }
   ],
   "source": [
    "b[0, 1]"
   ]
  },
  {
   "cell_type": "code",
   "execution_count": 38,
   "id": "5631ac33-85f2-47a0-b551-fc782ddbafae",
   "metadata": {},
   "outputs": [
    {
     "data": {
      "text/plain": [
       "array([1, 2, 3, 4])"
      ]
     },
     "execution_count": 38,
     "metadata": {},
     "output_type": "execute_result"
    }
   ],
   "source": [
    "# Podemos usar slicing para llamar varios elementos a la vez\n",
    "a[:4]"
   ]
  },
  {
   "cell_type": "code",
   "execution_count": 39,
   "id": "01b20524-dd08-4420-8116-9195c3869393",
   "metadata": {},
   "outputs": [
    {
     "data": {
      "text/plain": [
       "array([1, 3, 5, 7, 9])"
      ]
     },
     "execution_count": 39,
     "metadata": {},
     "output_type": "execute_result"
    }
   ],
   "source": [
    "# Traer varios elementos con algunas reglas (En este caso de dos en dos)\n",
    "a[::2]"
   ]
  },
  {
   "cell_type": "code",
   "execution_count": null,
   "id": "2315c206-9144-4df6-afaa-a0f9c234f697",
   "metadata": {},
   "outputs": [],
   "source": [
    "\n",
    "# Aplicamos slicin"
   ]
  },
  {
   "cell_type": "code",
   "execution_count": null,
   "id": "8613205c-3db8-4ee0-b635-31b8c3971c95",
   "metadata": {},
   "outputs": [],
   "source": []
  }
 ],
 "metadata": {
  "kernelspec": {
   "display_name": "Python 3 (ipykernel)",
   "language": "python",
   "name": "python3"
  },
  "language_info": {
   "codemirror_mode": {
    "name": "ipython",
    "version": 3
   },
   "file_extension": ".py",
   "mimetype": "text/x-python",
   "name": "python",
   "nbconvert_exporter": "python",
   "pygments_lexer": "ipython3",
   "version": "3.8.12"
  }
 },
 "nbformat": 4,
 "nbformat_minor": 5
}
