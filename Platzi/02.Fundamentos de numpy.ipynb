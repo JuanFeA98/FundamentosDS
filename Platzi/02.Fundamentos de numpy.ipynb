{
 "cells": [
  {
   "cell_type": "markdown",
   "id": "964a8674-434f-4653-bc81-9c582bcade84",
   "metadata": {},
   "source": [
    "## **Librerias**"
   ]
  },
  {
   "cell_type": "code",
   "execution_count": 1,
   "id": "ec2531cc-caf7-49c7-8318-96eddbeffbc4",
   "metadata": {},
   "outputs": [],
   "source": [
    "import pandas as pd\n",
    "import numpy as np"
   ]
  },
  {
   "cell_type": "code",
   "execution_count": 2,
   "id": "b5e57888-4f1c-496c-93f3-c04ff0a24772",
   "metadata": {},
   "outputs": [],
   "source": [
    "pd.options.display.max_columns = False"
   ]
  },
  {
   "cell_type": "markdown",
   "id": "3263213a-6b55-4baf-aaea-e55d42f58181",
   "metadata": {},
   "source": [
    "## **1. Introducción a Numpy**"
   ]
  },
  {
   "cell_type": "markdown",
   "id": "d3e5aeaa-2ef3-4c67-970e-1058c1253f37",
   "metadata": {},
   "source": [
    "### **1.1 Arrays**"
   ]
  },
  {
   "cell_type": "markdown",
   "id": "f2af11d8-ad48-4e5b-a1ec-b2d7b55bdefc",
   "metadata": {},
   "source": [
    "<ul>\n",
    "    <li>Son la estructura central de <strong>Numpy.</strong></li>\n",
    "    <li>Representan datos de una manera estructurada.</li>\n",
    "    <li>Indexado.</li>\n",
    "    <li>Permite acceder a uno o varios elementos.</li>\n",
    "</ul>"
   ]
  },
  {
   "cell_type": "markdown",
   "id": "e954f485-869c-4c94-a4ff-b9de70ae7609",
   "metadata": {},
   "source": [
    "#### **Creación de arrays**"
   ]
  },
  {
   "cell_type": "code",
   "execution_count": 3,
   "id": "539c3d4d-33c1-4521-9f4f-6f3b57607aa0",
   "metadata": {},
   "outputs": [
    {
     "data": {
      "text/plain": [
       "array([1, 2, 3, 4, 5, 6, 7, 8, 9])"
      ]
     },
     "execution_count": 3,
     "metadata": {},
     "output_type": "execute_result"
    }
   ],
   "source": [
    "# Creamos un array unidimensional\n",
    "a = np.array([1, 2, 3, 4, 5, 6, 7, 8, 9])\n",
    "a"
   ]
  },
  {
   "cell_type": "code",
   "execution_count": 4,
   "id": "2b43e45f-ad3f-4b80-a95c-fea64e740dcf",
   "metadata": {},
   "outputs": [
    {
     "data": {
      "text/plain": [
       "array([[1, 2, 3],\n",
       "       [4, 5, 6],\n",
       "       [7, 8, 9]])"
      ]
     },
     "execution_count": 4,
     "metadata": {},
     "output_type": "execute_result"
    }
   ],
   "source": [
    "# Creamos un array bidimensional\n",
    "b = np.array([[1, 2, 3], [4, 5, 6], [7, 8, 9]])\n",
    "b"
   ]
  },
  {
   "cell_type": "code",
   "execution_count": 5,
   "id": "b4cd96f7-880e-498a-abf4-dfa52b638624",
   "metadata": {},
   "outputs": [
    {
     "data": {
      "text/plain": [
       "numpy.ndarray"
      ]
     },
     "execution_count": 5,
     "metadata": {},
     "output_type": "execute_result"
    }
   ],
   "source": [
    "# Vemos que efectivamente es un array\n",
    "type(a)"
   ]
  },
  {
   "cell_type": "code",
   "execution_count": 6,
   "id": "de2c0c22-d2ab-4bde-b4d5-e6df69987fbd",
   "metadata": {},
   "outputs": [
    {
     "data": {
      "text/plain": [
       "(3, 3)"
      ]
     },
     "execution_count": 6,
     "metadata": {},
     "output_type": "execute_result"
    }
   ],
   "source": [
    "# Vemos las dimensiones del array\n",
    "b.shape"
   ]
  },
  {
   "cell_type": "markdown",
   "id": "0eb701d6-249e-4a03-9184-a08434006515",
   "metadata": {},
   "source": [
    "#### **Llamando a los elementos**"
   ]
  },
  {
   "cell_type": "code",
   "execution_count": 7,
   "id": "8c70a17c-e9cb-4b02-88c1-42cba898eecb",
   "metadata": {},
   "outputs": [
    {
     "data": {
      "text/plain": [
       "1"
      ]
     },
     "execution_count": 7,
     "metadata": {},
     "output_type": "execute_result"
    }
   ],
   "source": [
    "# Seleccionamos un elemento por el indice del array\n",
    "a[0]"
   ]
  },
  {
   "cell_type": "code",
   "execution_count": 8,
   "id": "9f35ffac-2f6c-4bd4-b911-c340e04cd383",
   "metadata": {},
   "outputs": [
    {
     "data": {
      "text/plain": [
       "array([1, 2, 3])"
      ]
     },
     "execution_count": 8,
     "metadata": {},
     "output_type": "execute_result"
    }
   ],
   "source": [
    "# Tambien funciona con arrays bidimensionales\n",
    "b[0]"
   ]
  },
  {
   "cell_type": "code",
   "execution_count": 9,
   "id": "3851f63f-f576-4178-a880-b08b096160ad",
   "metadata": {},
   "outputs": [
    {
     "data": {
      "text/plain": [
       "2"
      ]
     },
     "execution_count": 9,
     "metadata": {},
     "output_type": "execute_result"
    }
   ],
   "source": [
    "# Y tambien podemos traer un elemento en especifico\n",
    "b[0][1]"
   ]
  },
  {
   "cell_type": "code",
   "execution_count": 10,
   "id": "d2b6d6c7-e406-451e-a071-caff2cad5190",
   "metadata": {},
   "outputs": [
    {
     "data": {
      "text/plain": [
       "2"
      ]
     },
     "execution_count": 10,
     "metadata": {},
     "output_type": "execute_result"
    }
   ],
   "source": [
    "b[0, 1]"
   ]
  },
  {
   "cell_type": "code",
   "execution_count": 11,
   "id": "5631ac33-85f2-47a0-b551-fc782ddbafae",
   "metadata": {},
   "outputs": [
    {
     "data": {
      "text/plain": [
       "array([1, 2, 3, 4])"
      ]
     },
     "execution_count": 11,
     "metadata": {},
     "output_type": "execute_result"
    }
   ],
   "source": [
    "# Podemos usar slicing para llamar varios elementos a la vez\n",
    "a[:4]"
   ]
  },
  {
   "cell_type": "code",
   "execution_count": 12,
   "id": "01b20524-dd08-4420-8116-9195c3869393",
   "metadata": {},
   "outputs": [
    {
     "data": {
      "text/plain": [
       "array([1, 3, 5, 7, 9])"
      ]
     },
     "execution_count": 12,
     "metadata": {},
     "output_type": "execute_result"
    }
   ],
   "source": [
    "# Traer varios elementos con algunas reglas (En este caso de dos en dos)\n",
    "a[::2]"
   ]
  },
  {
   "cell_type": "code",
   "execution_count": 13,
   "id": "2315c206-9144-4df6-afaa-a0f9c234f697",
   "metadata": {},
   "outputs": [
    {
     "data": {
      "text/plain": [
       "array([[4, 5],\n",
       "       [7, 8]])"
      ]
     },
     "execution_count": 13,
     "metadata": {},
     "output_type": "execute_result"
    }
   ],
   "source": [
    "# Aplicamos slicing en una matriz, en este caso primero indicamos las filas y luego las columnas\n",
    "b[1:, :2]"
   ]
  },
  {
   "cell_type": "markdown",
   "id": "ab297d7c-f8a9-4b57-b6e1-7803079b4fc7",
   "metadata": {},
   "source": [
    "#### **Tipo de datos**"
   ]
  },
  {
   "cell_type": "code",
   "execution_count": 14,
   "id": "8613205c-3db8-4ee0-b635-31b8c3971c95",
   "metadata": {},
   "outputs": [
    {
     "data": {
      "text/plain": [
       "dtype('float64')"
      ]
     },
     "execution_count": 14,
     "metadata": {},
     "output_type": "execute_result"
    }
   ],
   "source": [
    "# Determinar el tipo de datos del array\n",
    "a = np.array([1, 2, 3, 4], dtype='float64')\n",
    "a.dtype"
   ]
  },
  {
   "cell_type": "code",
   "execution_count": 15,
   "id": "1a581295-21db-4019-97ba-61673d233fda",
   "metadata": {},
   "outputs": [
    {
     "data": {
      "text/plain": [
       "array([1, 2, 3, 4], dtype=int64)"
      ]
     },
     "execution_count": 15,
     "metadata": {},
     "output_type": "execute_result"
    }
   ],
   "source": [
    "# Cambiar el tipo de datos\n",
    "a.astype(np.int64)"
   ]
  },
  {
   "cell_type": "markdown",
   "id": "3219efdf-233d-4a2b-8329-335427da4c54",
   "metadata": {},
   "source": [
    "#### **Crear arrays con numpy**"
   ]
  },
  {
   "cell_type": "code",
   "execution_count": 16,
   "id": "dd0e4615-a749-4e09-aba1-57bdb6dcb18a",
   "metadata": {},
   "outputs": [
    {
     "data": {
      "text/plain": [
       "array([1, 3, 5, 7, 9])"
      ]
     },
     "execution_count": 16,
     "metadata": {},
     "output_type": "execute_result"
    }
   ],
   "source": [
    "# Crear un array de una secuencia\n",
    "a = np.arange(1, 11, 2)\n",
    "a"
   ]
  },
  {
   "cell_type": "code",
   "execution_count": 17,
   "id": "da7893fb-b8fd-47ab-96fc-288bb8b9faa6",
   "metadata": {},
   "outputs": [
    {
     "data": {
      "text/plain": [
       "array([[0., 0.],\n",
       "       [0., 0.],\n",
       "       [0., 0.],\n",
       "       [0., 0.],\n",
       "       [0., 0.],\n",
       "       [0., 0.],\n",
       "       [0., 0.],\n",
       "       [0., 0.],\n",
       "       [0., 0.],\n",
       "       [0., 0.]])"
      ]
     },
     "execution_count": 17,
     "metadata": {},
     "output_type": "execute_result"
    }
   ],
   "source": [
    "# Crear un array de ceros\n",
    "b = np.zeros((10,2))\n",
    "b"
   ]
  },
  {
   "cell_type": "code",
   "execution_count": 18,
   "id": "f8167422-3631-44b3-93ff-3b6a06bd19cb",
   "metadata": {},
   "outputs": [
    {
     "data": {
      "text/plain": [
       "array([1., 1., 1., 1., 1., 1., 1., 1., 1., 1.])"
      ]
     },
     "execution_count": 18,
     "metadata": {},
     "output_type": "execute_result"
    }
   ],
   "source": [
    "# Crear un array de unos\n",
    "c = np.ones(10)\n",
    "c"
   ]
  },
  {
   "cell_type": "code",
   "execution_count": 19,
   "id": "62f26a40-8219-4816-9bb8-df565cbb056a",
   "metadata": {},
   "outputs": [
    {
     "data": {
      "text/plain": [
       "array([ 0.        ,  1.11111111,  2.22222222,  3.33333333,  4.44444444,\n",
       "        5.55555556,  6.66666667,  7.77777778,  8.88888889, 10.        ])"
      ]
     },
     "execution_count": 19,
     "metadata": {},
     "output_type": "execute_result"
    }
   ],
   "source": [
    "# Crear un array de una secuencia distribuida\n",
    "d = np.linspace(0, 10, 10)\n",
    "d"
   ]
  },
  {
   "cell_type": "code",
   "execution_count": 20,
   "id": "cea5e6af-05b3-4f6c-889f-60e669522d3a",
   "metadata": {},
   "outputs": [
    {
     "data": {
      "text/plain": [
       "array([[1., 0., 0.],\n",
       "       [0., 1., 0.],\n",
       "       [0., 0., 1.]])"
      ]
     },
     "execution_count": 20,
     "metadata": {},
     "output_type": "execute_result"
    }
   ],
   "source": [
    "# Crear una matriz identidad\n",
    "e = np.eye(3)\n",
    "e"
   ]
  },
  {
   "cell_type": "code",
   "execution_count": 21,
   "id": "3fca279f-a07a-429d-924e-01b256fe12dd",
   "metadata": {},
   "outputs": [
    {
     "data": {
      "text/plain": [
       "array([[0.25408841, 0.11227761],\n",
       "       [0.82544854, 0.29678811]])"
      ]
     },
     "execution_count": 21,
     "metadata": {},
     "output_type": "execute_result"
    }
   ],
   "source": [
    "# Crear un array con números aleatorios entre 0 y 1\n",
    "f = np.random.rand(2, 2)\n",
    "f"
   ]
  },
  {
   "cell_type": "code",
   "execution_count": 22,
   "id": "08f4627b-78dc-4fff-b721-1977fa51a69e",
   "metadata": {},
   "outputs": [
    {
     "data": {
      "text/plain": [
       "array([[9, 1, 8],\n",
       "       [9, 8, 5],\n",
       "       [4, 5, 1]])"
      ]
     },
     "execution_count": 22,
     "metadata": {},
     "output_type": "execute_result"
    }
   ],
   "source": [
    "# Crear un array con números aleatorios entre un rango\n",
    "g = np.random.randint(1, 10, (3, 3))\n",
    "g"
   ]
  },
  {
   "cell_type": "code",
   "execution_count": 23,
   "id": "d37c54f7-1218-455a-9d0a-32d5ddb56ba9",
   "metadata": {},
   "outputs": [
    {
     "data": {
      "text/plain": [
       "array([[9, 1, 8],\n",
       "       [9, 8, 5],\n",
       "       [4, 5, 1]])"
      ]
     },
     "execution_count": 23,
     "metadata": {},
     "output_type": "execute_result"
    }
   ],
   "source": [
    "g"
   ]
  },
  {
   "cell_type": "markdown",
   "id": "18172df9-d97f-43db-8ad2-c1abcbdb0b6b",
   "metadata": {},
   "source": [
    "#### **Funciones principales**"
   ]
  },
  {
   "cell_type": "markdown",
   "id": "93b1cb4e-7645-4096-b09b-fb6ce4d8d216",
   "metadata": {},
   "source": [
    "##### **Elemento mayor**"
   ]
  },
  {
   "cell_type": "code",
   "execution_count": 24,
   "id": "200e40b6-ea0d-45e6-bd3a-b61e7f89d350",
   "metadata": {},
   "outputs": [
    {
     "data": {
      "text/plain": [
       "9"
      ]
     },
     "execution_count": 24,
     "metadata": {},
     "output_type": "execute_result"
    }
   ],
   "source": [
    "# Traer el elemento mayor\n",
    "g.max()"
   ]
  },
  {
   "cell_type": "code",
   "execution_count": 25,
   "id": "baccba4d-3bae-4a8a-8b3d-da4da7994891",
   "metadata": {},
   "outputs": [
    {
     "data": {
      "text/plain": [
       "array([9, 8, 8])"
      ]
     },
     "execution_count": 25,
     "metadata": {},
     "output_type": "execute_result"
    }
   ],
   "source": [
    "# Traer el elemento mayor por columnas\n",
    "g.max(0)"
   ]
  },
  {
   "cell_type": "code",
   "execution_count": 26,
   "id": "afbf4d70-5c93-4d9f-9f8c-626aeb63cd74",
   "metadata": {},
   "outputs": [
    {
     "data": {
      "text/plain": [
       "array([9, 9, 5])"
      ]
     },
     "execution_count": 26,
     "metadata": {},
     "output_type": "execute_result"
    }
   ],
   "source": [
    "# Traer el elemento mayor por filas\n",
    "g.max(1)"
   ]
  },
  {
   "cell_type": "code",
   "execution_count": 27,
   "id": "197bf740-54c0-45f8-aa69-2165dee04c76",
   "metadata": {},
   "outputs": [
    {
     "data": {
      "text/plain": [
       "0"
      ]
     },
     "execution_count": 27,
     "metadata": {},
     "output_type": "execute_result"
    }
   ],
   "source": [
    "# Indica el indice en el que esta el elemento mayor\n",
    "g.argmax()"
   ]
  },
  {
   "cell_type": "markdown",
   "id": "3aad0a6b-1be1-4cef-99fb-245c3433945f",
   "metadata": {},
   "source": [
    "##### **Elemento menor**"
   ]
  },
  {
   "cell_type": "code",
   "execution_count": 28,
   "id": "4974f077-aee8-49d7-828d-30185f01b923",
   "metadata": {},
   "outputs": [
    {
     "data": {
      "text/plain": [
       "1"
      ]
     },
     "execution_count": 28,
     "metadata": {},
     "output_type": "execute_result"
    }
   ],
   "source": [
    "# Traer el elemento menor\n",
    "g.min()"
   ]
  },
  {
   "cell_type": "code",
   "execution_count": 29,
   "id": "88a1677f-417d-4089-b11f-e6c3d3715db9",
   "metadata": {},
   "outputs": [
    {
     "data": {
      "text/plain": [
       "array([4, 1, 1])"
      ]
     },
     "execution_count": 29,
     "metadata": {},
     "output_type": "execute_result"
    }
   ],
   "source": [
    "# Traer el elemento menor por columnas\n",
    "g.min(0)"
   ]
  },
  {
   "cell_type": "code",
   "execution_count": 30,
   "id": "55555258-7671-46f1-8637-9c30233abaa0",
   "metadata": {},
   "outputs": [
    {
     "data": {
      "text/plain": [
       "array([1, 5, 1])"
      ]
     },
     "execution_count": 30,
     "metadata": {},
     "output_type": "execute_result"
    }
   ],
   "source": [
    "# Traer el elemento menor por filas\n",
    "g.min(1)"
   ]
  },
  {
   "cell_type": "code",
   "execution_count": 31,
   "id": "34cc3b7f-5864-4f4f-804b-fcb80ba1e445",
   "metadata": {},
   "outputs": [
    {
     "data": {
      "text/plain": [
       "1"
      ]
     },
     "execution_count": 31,
     "metadata": {},
     "output_type": "execute_result"
    }
   ],
   "source": [
    "# Indica el indice en el que esta el elemento menor\n",
    "g.argmin()"
   ]
  },
  {
   "cell_type": "markdown",
   "id": "db8464ee-38a0-4886-98c5-7cca1e50aff5",
   "metadata": {},
   "source": [
    "##### **Rangos**"
   ]
  },
  {
   "cell_type": "code",
   "execution_count": 32,
   "id": "3d82226d-0f34-42df-bc9d-53bb5d89575d",
   "metadata": {},
   "outputs": [
    {
     "data": {
      "text/plain": [
       "8"
      ]
     },
     "execution_count": 32,
     "metadata": {},
     "output_type": "execute_result"
    }
   ],
   "source": [
    "# Diferencia entre el elemento menor y el elemento mayor\n",
    "g.ptp()"
   ]
  },
  {
   "cell_type": "code",
   "execution_count": 33,
   "id": "7a404014-051d-4bf4-973f-99849549188b",
   "metadata": {},
   "outputs": [
    {
     "data": {
      "text/plain": [
       "5.0"
      ]
     },
     "execution_count": 33,
     "metadata": {},
     "output_type": "execute_result"
    }
   ],
   "source": [
    "# Trae el valor del percentil que especifiquemos\n",
    "np.percentile(g, 50)"
   ]
  },
  {
   "cell_type": "markdown",
   "id": "018ae4fc-2718-408a-9148-9039da9657f4",
   "metadata": {},
   "source": [
    "##### **Funciones estadisticas**"
   ]
  },
  {
   "cell_type": "code",
   "execution_count": 34,
   "id": "334961d7-e1c2-4997-9ac5-88b8730de392",
   "metadata": {},
   "outputs": [
    {
     "data": {
      "text/plain": [
       "array([[1, 8, 9],\n",
       "       [5, 8, 9],\n",
       "       [1, 4, 5]])"
      ]
     },
     "execution_count": 34,
     "metadata": {},
     "output_type": "execute_result"
    }
   ],
   "source": [
    "# Ordenear los valores de menor a mayor\n",
    "g.sort()\n",
    "g"
   ]
  },
  {
   "cell_type": "code",
   "execution_count": 35,
   "id": "d36bd72a-c953-4f72-bc9c-bcffbfbfebe5",
   "metadata": {},
   "outputs": [
    {
     "data": {
      "text/plain": [
       "5.555555555555555"
      ]
     },
     "execution_count": 35,
     "metadata": {},
     "output_type": "execute_result"
    }
   ],
   "source": [
    "# Calcular la media de un array\n",
    "np.mean(g)"
   ]
  },
  {
   "cell_type": "code",
   "execution_count": 36,
   "id": "e61c36cb-d7f6-42b2-9016-580cbd77f0f5",
   "metadata": {},
   "outputs": [
    {
     "data": {
      "text/plain": [
       "5.0"
      ]
     },
     "execution_count": 36,
     "metadata": {},
     "output_type": "execute_result"
    }
   ],
   "source": [
    "# Calcular la mediana de un array\n",
    "round(np.median(g),2)"
   ]
  },
  {
   "cell_type": "code",
   "execution_count": 37,
   "id": "d11cbab3-a92b-4ecf-9d4d-0cc7d6c46b22",
   "metadata": {},
   "outputs": [
    {
     "data": {
      "text/plain": [
       "2.99"
      ]
     },
     "execution_count": 37,
     "metadata": {},
     "output_type": "execute_result"
    }
   ],
   "source": [
    "# Calcular la desviación estándar de un array\n",
    "round(np.std(g),2)"
   ]
  },
  {
   "cell_type": "code",
   "execution_count": 38,
   "id": "b3dfe8eb-3294-46a1-81ef-a4155e1a2b15",
   "metadata": {},
   "outputs": [
    {
     "data": {
      "text/plain": [
       "8.91"
      ]
     },
     "execution_count": 38,
     "metadata": {},
     "output_type": "execute_result"
    }
   ],
   "source": [
    "# Calcular la varianza de un array\n",
    "round(np.var(g),2)"
   ]
  },
  {
   "cell_type": "markdown",
   "id": "810fb59a-3cd3-463a-bb23-de418ab5e46a",
   "metadata": {},
   "source": [
    "##### **Combinar arrays**"
   ]
  },
  {
   "cell_type": "code",
   "execution_count": 39,
   "id": "660c9c0b-be90-431c-a538-edcc5e2defba",
   "metadata": {},
   "outputs": [
    {
     "data": {
      "text/plain": [
       "array([[1, 2, 3],\n",
       "       [4, 5, 6]])"
      ]
     },
     "execution_count": 39,
     "metadata": {},
     "output_type": "execute_result"
    }
   ],
   "source": [
    "a = np.array([[1,2,3], [4,5,6]])\n",
    "a"
   ]
  },
  {
   "cell_type": "code",
   "execution_count": 40,
   "id": "526b5f08-4c12-4d18-b955-a1e000f37d92",
   "metadata": {},
   "outputs": [
    {
     "data": {
      "text/plain": [
       "array([7, 8, 9])"
      ]
     },
     "execution_count": 40,
     "metadata": {},
     "output_type": "execute_result"
    }
   ],
   "source": [
    "b = np.array([7,8,9])\n",
    "b"
   ]
  },
  {
   "cell_type": "code",
   "execution_count": 41,
   "id": "cbbe1aff-e766-41cd-aa20-5119fedcd250",
   "metadata": {},
   "outputs": [],
   "source": [
    "# Ajustamos las dimensiones de nuestros array\n",
    "b = np.expand_dims(b, axis=0)"
   ]
  },
  {
   "cell_type": "code",
   "execution_count": 42,
   "id": "dfab2c86-ca5a-4213-9cdd-cf3112402567",
   "metadata": {},
   "outputs": [
    {
     "data": {
      "text/plain": [
       "array([[1, 2, 3],\n",
       "       [4, 5, 6],\n",
       "       [7, 8, 9]])"
      ]
     },
     "execution_count": 42,
     "metadata": {},
     "output_type": "execute_result"
    }
   ],
   "source": [
    "# Combinamos los arrays\n",
    "c = np.concatenate((a,b), axis=0)\n",
    "c"
   ]
  },
  {
   "cell_type": "code",
   "execution_count": 43,
   "id": "6b783708-4dcb-4168-a50d-6f038961e909",
   "metadata": {},
   "outputs": [
    {
     "data": {
      "text/plain": [
       "array([[1, 2, 3],\n",
       "       [4, 5, 6],\n",
       "       [7, 8, 9]])"
      ]
     },
     "execution_count": 43,
     "metadata": {},
     "output_type": "execute_result"
    }
   ],
   "source": [
    "c.copy()"
   ]
  },
  {
   "cell_type": "markdown",
   "id": "5bf8a995-bbed-49f6-9f92-4053d1f21059",
   "metadata": {},
   "source": [
    "#### **Condiciones**"
   ]
  },
  {
   "cell_type": "code",
   "execution_count": 44,
   "id": "7a082afc-7f3a-4d1c-a309-0fb81ab17236",
   "metadata": {},
   "outputs": [
    {
     "data": {
      "text/plain": [
       "array([1, 2, 3, 4, 5, 6, 7, 8, 9])"
      ]
     },
     "execution_count": 44,
     "metadata": {},
     "output_type": "execute_result"
    }
   ],
   "source": [
    "a = np.arange(1, 10)\n",
    "a"
   ]
  },
  {
   "cell_type": "code",
   "execution_count": 45,
   "id": "5c3a7f8f-d0f9-45c7-be49-cf2c355bb14c",
   "metadata": {},
   "outputs": [
    {
     "data": {
      "text/plain": [
       "array([6, 7, 8, 9])"
      ]
     },
     "execution_count": 45,
     "metadata": {},
     "output_type": "execute_result"
    }
   ],
   "source": [
    "# Filtrar los elementos de un array con una condición\n",
    "a[a>5]"
   ]
  },
  {
   "cell_type": "code",
   "execution_count": 46,
   "id": "4cac8164-9131-426d-af70-82c56bf358af",
   "metadata": {},
   "outputs": [
    {
     "data": {
      "text/plain": [
       "array([ 1,  2,  3,  4,  5, 10, 10, 10, 10])"
      ]
     },
     "execution_count": 46,
     "metadata": {},
     "output_type": "execute_result"
    }
   ],
   "source": [
    "# Cambiar el valor de los elementos de un array con una condicion\n",
    "a[a>5]=10\n",
    "a"
   ]
  },
  {
   "cell_type": "markdown",
   "id": "aa66e3b6-d259-44af-8c23-cb0013e26838",
   "metadata": {},
   "source": [
    "#### **Operaciones**"
   ]
  },
  {
   "cell_type": "code",
   "execution_count": 48,
   "id": "0b4f3bd4-7f01-4f2d-972a-65a545b7fa40",
   "metadata": {},
   "outputs": [
    {
     "data": {
      "text/plain": [
       "array([10, 20, 30])"
      ]
     },
     "execution_count": 48,
     "metadata": {},
     "output_type": "execute_result"
    }
   ],
   "source": [
    "a = np.array([10, 20, 30])\n",
    "a"
   ]
  },
  {
   "cell_type": "markdown",
   "id": "25ba1a21-ab07-429f-8e15-5508d6918a11",
   "metadata": {},
   "source": [
    "##### **Operaciones entre arrays y escalares**"
   ]
  },
  {
   "cell_type": "code",
   "execution_count": 53,
   "id": "11eb9cbd-3333-43e2-a097-9ae146f8c399",
   "metadata": {},
   "outputs": [
    {
     "data": {
      "text/plain": [
       "array([12, 22, 32])"
      ]
     },
     "execution_count": 53,
     "metadata": {},
     "output_type": "execute_result"
    }
   ],
   "source": [
    "# Suma\n",
    "a + 2"
   ]
  },
  {
   "cell_type": "code",
   "execution_count": 54,
   "id": "b6c5af8e-dbc0-4d5b-89e0-585b5f5f0f6c",
   "metadata": {},
   "outputs": [
    {
     "data": {
      "text/plain": [
       "array([ 8, 18, 28])"
      ]
     },
     "execution_count": 54,
     "metadata": {},
     "output_type": "execute_result"
    }
   ],
   "source": [
    "# Resta\n",
    "a - 2"
   ]
  },
  {
   "cell_type": "code",
   "execution_count": 55,
   "id": "18ebcb7e-a85f-4a80-aed7-095b1ab4224b",
   "metadata": {},
   "outputs": [
    {
     "data": {
      "text/plain": [
       "array([20, 40, 60])"
      ]
     },
     "execution_count": 55,
     "metadata": {},
     "output_type": "execute_result"
    }
   ],
   "source": [
    "# Multiplicación\n",
    "a * 2"
   ]
  },
  {
   "cell_type": "code",
   "execution_count": 56,
   "id": "8480bf1c-f2dd-4205-b054-1719cba8e070",
   "metadata": {},
   "outputs": [
    {
     "data": {
      "text/plain": [
       "array([ 5., 10., 15.])"
      ]
     },
     "execution_count": 56,
     "metadata": {},
     "output_type": "execute_result"
    }
   ],
   "source": [
    "# División\n",
    "a / 2"
   ]
  },
  {
   "cell_type": "markdown",
   "id": "45ad1adb-687c-4a5d-bdbf-300dddcc2919",
   "metadata": {},
   "source": [
    "##### **Operaciones entre arrays**"
   ]
  },
  {
   "cell_type": "code",
   "execution_count": 58,
   "id": "95aaca4c-9ea3-460e-a538-9c70c23763cc",
   "metadata": {},
   "outputs": [
    {
     "data": {
      "text/plain": [
       "array([20, 40, 60])"
      ]
     },
     "execution_count": 58,
     "metadata": {},
     "output_type": "execute_result"
    }
   ],
   "source": [
    "# Suma de arrays\n",
    "a + a"
   ]
  },
  {
   "cell_type": "code",
   "execution_count": 61,
   "id": "b62411ae-55a5-4ca9-bfa7-0cf6243bca6b",
   "metadata": {},
   "outputs": [
    {
     "data": {
      "text/plain": [
       "array([0, 0, 0])"
      ]
     },
     "execution_count": 61,
     "metadata": {},
     "output_type": "execute_result"
    }
   ],
   "source": [
    "# Resta de arrays\n",
    "a - a"
   ]
  },
  {
   "cell_type": "markdown",
   "id": "2aad96e1-35a9-4769-b275-b7ab5b07ba28",
   "metadata": {},
   "source": [
    "##### **Operaciones entre matrices**"
   ]
  },
  {
   "cell_type": "code",
   "execution_count": 63,
   "id": "62174848-32e1-4f1e-8f98-a8e9a419e257",
   "metadata": {},
   "outputs": [
    {
     "data": {
      "text/plain": [
       "array([[1, 2, 3],\n",
       "       [4, 5, 6]])"
      ]
     },
     "execution_count": 63,
     "metadata": {},
     "output_type": "execute_result"
    }
   ],
   "source": [
    "b = np.array([[1,2,3],[4,5,6]])\n",
    "b"
   ]
  },
  {
   "cell_type": "code",
   "execution_count": 67,
   "id": "1b5b9169-b0b9-4e6c-8159-8246d2bcc543",
   "metadata": {},
   "outputs": [
    {
     "data": {
      "text/plain": [
       "array([[14, 32],\n",
       "       [32, 77]])"
      ]
     },
     "execution_count": 67,
     "metadata": {},
     "output_type": "execute_result"
    }
   ],
   "source": [
    "# Produco punto\n",
    "np.matmul(b, b.T)"
   ]
  },
  {
   "cell_type": "code",
   "execution_count": 69,
   "id": "345ccedc-90a2-4a82-895d-11fc267e6c2b",
   "metadata": {},
   "outputs": [
    {
     "data": {
      "text/plain": [
       "array([[14, 32],\n",
       "       [32, 77]])"
      ]
     },
     "execution_count": 69,
     "metadata": {},
     "output_type": "execute_result"
    }
   ],
   "source": [
    "b@b.T"
   ]
  },
  {
   "cell_type": "code",
   "execution_count": 72,
   "id": "424fe1f4-feec-4fb1-b26a-65b428ab3f78",
   "metadata": {},
   "outputs": [
    {
     "data": {
      "text/plain": [
       "array([[14, 32],\n",
       "       [32, 77]])"
      ]
     },
     "execution_count": 72,
     "metadata": {},
     "output_type": "execute_result"
    }
   ],
   "source": [
    "np.dot(b, b.T)"
   ]
  }
 ],
 "metadata": {
  "kernelspec": {
   "display_name": "Python 3 (ipykernel)",
   "language": "python",
   "name": "python3"
  },
  "language_info": {
   "codemirror_mode": {
    "name": "ipython",
    "version": 3
   },
   "file_extension": ".py",
   "mimetype": "text/x-python",
   "name": "python",
   "nbconvert_exporter": "python",
   "pygments_lexer": "ipython3",
   "version": "3.8.12"
  }
 },
 "nbformat": 4,
 "nbformat_minor": 5
}
